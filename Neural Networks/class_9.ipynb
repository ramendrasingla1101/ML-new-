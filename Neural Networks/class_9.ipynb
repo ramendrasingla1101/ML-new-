{
 "cells": [
  {
   "cell_type": "markdown",
   "metadata": {},
   "source": [
    "## NEURAL NETWORKS SCRATCH"
   ]
  },
  {
   "cell_type": "code",
   "execution_count": 2,
   "metadata": {},
   "outputs": [],
   "source": [
    "import numpy as np\n",
    "import pandas as pd\n",
    "import matplotlib.pyplot as plt"
   ]
  },
  {
   "cell_type": "code",
   "execution_count": 3,
   "metadata": {},
   "outputs": [
    {
     "name": "stdout",
     "output_type": "stream",
     "text": [
      "(10000, 784) (10000,)\n"
     ]
    }
   ],
   "source": [
    "data = pd.read_csv('/home/ramendra/Desktop/ML-new-/Neural Networks/fashion-mnist_test.csv')\n",
    "# data = pd.read_csv(\"./fashion-mnist_test.csv\")\n",
    "x = data.values\n",
    "X = x[:,1:]\n",
    "y = x[:,0]\n",
    "X = X/255.0\n",
    "\n",
    "print (X.shape,y.shape)"
   ]
  },
  {
   "cell_type": "code",
   "execution_count": 4,
   "metadata": {},
   "outputs": [
    {
     "name": "stdout",
     "output_type": "stream",
     "text": [
      "(8000, 784) (8000,)\n",
      "(2000, 784) (2000,)\n"
     ]
    }
   ],
   "source": [
    "X_train = X[:8000,:]\n",
    "X_val = X[8000:,:]\n",
    "\n",
    "y_train = y[:8000]\n",
    "y_val = y[8000:]\n",
    "\n",
    "print(X_train.shape,y_train.shape)\n",
    "print(X_val.shape,y_val.shape)\n"
   ]
  },
  {
   "cell_type": "code",
   "execution_count": 26,
   "metadata": {},
   "outputs": [],
   "source": [
    "INP = 784 \n",
    "# Keep your neurons in power of 2\n",
    "H1_SIZE = 256\n",
    "H2_SIZE = 64\n",
    "OUT = 10\n",
    "BATCH_SIZE = 250\n",
    "EPOCH = 40\n",
    "LR = 0.003"
   ]
  },
  {
   "cell_type": "code",
   "execution_count": 27,
   "metadata": {},
   "outputs": [],
   "source": [
    "def accuracy(Y_pred, Y_act):\n",
    "    return (100.0*np.sum((Y_pred==Y_act)/Y_pred.shape[0]))\n",
    "    "
   ]
  },
  {
   "cell_type": "code",
   "execution_count": 28,
   "metadata": {},
   "outputs": [],
   "source": [
    "# Initialiing Weights random_number(between 0 & 1) multipllied by sqrt(inp.size)\n",
    "def ini_weights():\n",
    "    \n",
    "    np.random.seed(0)\n",
    "    model = {}\n",
    "    model[\"W1\"] = np.random.randn(INP,H1_SIZE)/np.sqrt(INP)\n",
    "    model[\"B1\"] = np.zeros((1,H1_SIZE))\n",
    "    model[\"W2\"] = np.random.randn(H1_SIZE,H2_SIZE)/np.sqrt(H1_SIZE)\n",
    "    model[\"B2\"] = np.zeros((1,H2_SIZE))\n",
    "    model[\"W3\"] = np.random.randn(H2_SIZE,OUT)/np.sqrt(H2_SIZE)\n",
    "    model[\"B3\"] = np.zeros((1,OUT))\n",
    "    \n",
    "    return model"
   ]
  },
  {
   "cell_type": "code",
   "execution_count": 29,
   "metadata": {},
   "outputs": [],
   "source": [
    "def forward_prop(model,x):\n",
    "    z1 = x.dot(model[\"W1\"]) + model[\"B1\"]\n",
    "    a1 = np.tanh(z1)\n",
    "    z2 = a1.dot(model[\"W2\"]) + model[\"B2\"]\n",
    "    a2 = np.tanh(z2)\n",
    "    z3 = a2.dot(model[\"W3\"]) + model[\"B3\"]\n",
    "    h_x = np.exp(z3)\n",
    "    y_out = h_x/ np.sum(h_x, axis=1, keepdims=True)\n",
    "    \n",
    "    return a1,a2,y_out"
   ]
  },
  {
   "cell_type": "code",
   "execution_count": 30,
   "metadata": {},
   "outputs": [],
   "source": [
    "def back_prop(model, x , a1, a2, y_out, y_act):\n",
    "    delta4 = y_out\n",
    "    delta4[range(y_act.shape[0]), y_act] -= 1\n",
    "    dw3 = (a2.T).dot(delta4)\n",
    "    db3 = np.sum(delta4, axis=0)\n",
    "    delta3 = (1-np.square(a2))*delta4.dot(model[\"W3\"].T)\n",
    "    dw2 = (a1.T).dot(delta3)\n",
    "    db2 = np.sum(delta3, axis=0)\n",
    "    delta2 = (1-np.square(a1))*delta3.dot(model[\"W2\"].T)\n",
    "    dw1 = (x.T).dot(delta2)\n",
    "    db1 = np.sum(delta2, axis=0)\n",
    "    \n",
    "    model[\"W1\"] -= LR*dw1\n",
    "    model[\"B1\"] -= LR*db1\n",
    "    model[\"W2\"] -= LR*dw2\n",
    "    model[\"B2\"] -= LR*db2\n",
    "    model[\"W3\"] -= LR*dw3\n",
    "    model[\"B3\"] -= LR*db3\n",
    "    \n",
    "    return model"
   ]
  },
  {
   "cell_type": "code",
   "execution_count": 31,
   "metadata": {},
   "outputs": [],
   "source": [
    "def loss(model, Y_pred, Y_act):\n",
    "    correct_logprobs = -np.log2(Y_pred[range(Y_act.shape[0]), Y_act])\n",
    "    l = np.sum(correct_logprobs)\n",
    "    \n",
    "    return (1.0/Y_pred.shape[0])*l"
   ]
  },
  {
   "cell_type": "code",
   "execution_count": 32,
   "metadata": {},
   "outputs": [],
   "source": [
    "def predict(Y_out):\n",
    "    return np.argmax(Y_out, axis=1)"
   ]
  },
  {
   "cell_type": "code",
   "execution_count": 33,
   "metadata": {},
   "outputs": [],
   "source": [
    "def main():\n",
    "    training_loss = []\n",
    "    val_loss = []\n",
    "    val_acc = []\n",
    "    model = ini_weights()\n",
    "    \n",
    "    for e in range(EPOCH):\n",
    "        print (\"\\n Epoch : %d\" %(e+1))\n",
    "        count = 0\n",
    "        while (count + BATCH_SIZE) < y_train.shape[0]:\n",
    "            batch_data = X_train[count:(count+BATCH_SIZE),:]\n",
    "            batch_labels = y_train[count:(count+BATCH_SIZE),]\n",
    "            count += BATCH_SIZE\n",
    "            \n",
    "            a1,a2,y_out = forward_prop(model,batch_data)\n",
    "            model = back_prop(model,batch_data,a1,a2,y_out,batch_labels)\n",
    "            \n",
    "        _,_,p = forward_prop(model,X_train)\n",
    "        training_loss.append(loss(model,p,y_train))\n",
    "            \n",
    "        print('training_loss : %.3f' %(loss(model,p,y_train)))\n",
    "            \n",
    "        _,_,p = forward_prop(model,X_val)\n",
    "        pred = predict(p)\n",
    "        val_loss.append(loss(model,p,y_val))\n",
    "        val_acc.append(accuracy(pred,y_val))\n",
    "        print('validation_loss : %.3f' %(loss(model,p,y_val)))\n",
    "        print('validation_acc : %.3f' %(accuracy(pred,y_val)))\n",
    "    print (\"##############COMPLETED############\")\n",
    "    \n",
    "    return training_loss,val_loss,val_acc"
   ]
  },
  {
   "cell_type": "code",
   "execution_count": 38,
   "metadata": {},
   "outputs": [
    {
     "name": "stdout",
     "output_type": "stream",
     "text": [
      "\n",
      " Epoch : 1\n",
      "training_loss : 3.280\n",
      "validation_loss : 3.181\n",
      "validation_acc : 46.400\n",
      "\n",
      " Epoch : 2\n",
      "training_loss : 1.877\n",
      "validation_loss : 1.793\n",
      "validation_acc : 63.550\n",
      "\n",
      " Epoch : 3\n",
      "training_loss : 1.439\n",
      "validation_loss : 1.396\n",
      "validation_acc : 68.500\n",
      "\n",
      " Epoch : 4\n",
      "training_loss : 0.883\n",
      "validation_loss : 0.876\n",
      "validation_acc : 76.500\n",
      "\n",
      " Epoch : 5\n",
      "training_loss : 0.850\n",
      "validation_loss : 0.871\n",
      "validation_acc : 76.050\n",
      "\n",
      " Epoch : 6\n",
      "training_loss : 0.776\n",
      "validation_loss : 0.812\n",
      "validation_acc : 77.250\n",
      "\n",
      " Epoch : 7\n",
      "training_loss : 0.755\n",
      "validation_loss : 0.807\n",
      "validation_acc : 78.400\n",
      "\n",
      " Epoch : 8\n",
      "training_loss : 0.732\n",
      "validation_loss : 0.804\n",
      "validation_acc : 79.050\n",
      "\n",
      " Epoch : 9\n",
      "training_loss : 0.788\n",
      "validation_loss : 0.823\n",
      "validation_acc : 79.650\n",
      "\n",
      " Epoch : 10\n",
      "training_loss : 0.683\n",
      "validation_loss : 0.757\n",
      "validation_acc : 80.150\n",
      "\n",
      " Epoch : 11\n",
      "training_loss : 0.688\n",
      "validation_loss : 0.772\n",
      "validation_acc : 80.350\n",
      "\n",
      " Epoch : 12\n",
      "training_loss : 0.631\n",
      "validation_loss : 0.723\n",
      "validation_acc : 82.550\n",
      "\n",
      " Epoch : 13\n",
      "training_loss : 0.645\n",
      "validation_loss : 0.744\n",
      "validation_acc : 82.050\n",
      "\n",
      " Epoch : 14\n",
      "training_loss : 0.679\n",
      "validation_loss : 0.760\n",
      "validation_acc : 81.950\n",
      "\n",
      " Epoch : 15\n",
      "training_loss : 0.562\n",
      "validation_loss : 0.673\n",
      "validation_acc : 83.650\n",
      "\n",
      " Epoch : 16\n",
      "training_loss : 0.551\n",
      "validation_loss : 0.657\n",
      "validation_acc : 83.250\n",
      "\n",
      " Epoch : 17\n",
      "training_loss : 0.591\n",
      "validation_loss : 0.747\n",
      "validation_acc : 81.900\n",
      "\n",
      " Epoch : 18\n",
      "training_loss : 0.576\n",
      "validation_loss : 0.724\n",
      "validation_acc : 82.000\n",
      "\n",
      " Epoch : 19\n",
      "training_loss : 0.513\n",
      "validation_loss : 0.649\n",
      "validation_acc : 83.850\n",
      "\n",
      " Epoch : 20\n",
      "training_loss : 0.537\n",
      "validation_loss : 0.690\n",
      "validation_acc : 82.650\n",
      "\n",
      " Epoch : 21\n",
      "training_loss : 0.645\n",
      "validation_loss : 0.803\n",
      "validation_acc : 80.450\n",
      "\n",
      " Epoch : 22\n",
      "training_loss : 0.508\n",
      "validation_loss : 0.681\n",
      "validation_acc : 83.200\n",
      "\n",
      " Epoch : 23\n",
      "training_loss : 0.563\n",
      "validation_loss : 0.729\n",
      "validation_acc : 81.800\n",
      "\n",
      " Epoch : 24\n",
      "training_loss : 0.503\n",
      "validation_loss : 0.686\n",
      "validation_acc : 83.850\n",
      "\n",
      " Epoch : 25\n",
      "training_loss : 0.579\n",
      "validation_loss : 0.757\n",
      "validation_acc : 81.750\n",
      "\n",
      " Epoch : 26\n",
      "training_loss : 0.478\n",
      "validation_loss : 0.684\n",
      "validation_acc : 83.700\n",
      "\n",
      " Epoch : 27\n",
      "training_loss : 0.549\n",
      "validation_loss : 0.760\n",
      "validation_acc : 81.900\n",
      "\n",
      " Epoch : 28\n",
      "training_loss : 0.499\n",
      "validation_loss : 0.687\n",
      "validation_acc : 82.400\n",
      "\n",
      " Epoch : 29\n",
      "training_loss : 0.471\n",
      "validation_loss : 0.691\n",
      "validation_acc : 84.200\n",
      "\n",
      " Epoch : 30\n",
      "training_loss : 0.491\n",
      "validation_loss : 0.709\n",
      "validation_acc : 83.500\n",
      "\n",
      " Epoch : 31\n",
      "training_loss : 0.548\n",
      "validation_loss : 0.801\n",
      "validation_acc : 82.300\n",
      "\n",
      " Epoch : 32\n",
      "training_loss : 0.450\n",
      "validation_loss : 0.683\n",
      "validation_acc : 83.250\n",
      "\n",
      " Epoch : 33\n",
      "training_loss : 0.435\n",
      "validation_loss : 0.681\n",
      "validation_acc : 84.200\n",
      "\n",
      " Epoch : 34\n",
      "training_loss : 0.453\n",
      "validation_loss : 0.665\n",
      "validation_acc : 84.550\n",
      "\n",
      " Epoch : 35\n",
      "training_loss : 0.554\n",
      "validation_loss : 0.771\n",
      "validation_acc : 82.100\n",
      "\n",
      " Epoch : 36\n",
      "training_loss : 0.449\n",
      "validation_loss : 0.712\n",
      "validation_acc : 83.850\n",
      "\n",
      " Epoch : 37\n",
      "training_loss : 0.463\n",
      "validation_loss : 0.707\n",
      "validation_acc : 83.250\n",
      "\n",
      " Epoch : 38\n",
      "training_loss : 0.880\n",
      "validation_loss : 0.974\n",
      "validation_acc : 78.800\n",
      "\n",
      " Epoch : 39\n",
      "training_loss : 0.452\n",
      "validation_loss : 0.657\n",
      "validation_acc : 84.250\n",
      "\n",
      " Epoch : 40\n",
      "training_loss : 0.566\n",
      "validation_loss : 0.771\n",
      "validation_acc : 81.950\n",
      "##############COMPLETED############\n"
     ]
    }
   ],
   "source": [
    "training_loss, val_loss, val_acc = main()"
   ]
  },
  {
   "cell_type": "code",
   "execution_count": 39,
   "metadata": {},
   "outputs": [
    {
     "data": {
      "image/png": "[encoded data removed]",
      "text/plain": [
       "<Figure size 432x288 with 1 Axes>"
      ]
     },
     "metadata": {
      "needs_background": "light"
     },
     "output_type": "display_data"
    }
   ],
   "source": [
    "plt.figure(0)\n",
    "plt.plot(val_loss)\n",
    "plt.plot(training_loss,color='red')\n",
    "plt.show()"
   ]
  },
  {
   "cell_type": "code",
   "execution_count": 40,
   "metadata": {},
   "outputs": [
    {
     "data": {
      "image/png": "[encoded data removed]",
      "text/plain": [
       "<Figure size 432x288 with 1 Axes>"
      ]
     },
     "metadata": {
      "needs_background": "light"
     },
     "output_type": "display_data"
    }
   ],
   "source": [
    "plt.figure(0)\n",
    "plt.plot(val_acc)\n",
    "plt.show()"
   ]
  },
  {
   "cell_type": "code",
   "execution_count": null,
   "metadata": {},
   "outputs": [],
   "source": []
  }
 ],
 "metadata": {
  "kernelspec": {
   "display_name": "Python 3",
   "language": "python",
   "name": "python3"
  },
  "language_info": {
   "codemirror_mode": {
    "name": "ipython",
    "version": 3
   },
   "file_extension": ".py",
   "mimetype": "text/x-python",
   "name": "python",
   "nbconvert_exporter": "python",
   "pygments_lexer": "ipython3",
   "version": "3.6.7"
  }
 },
 "nbformat": 4,
 "nbformat_minor": 2
}
