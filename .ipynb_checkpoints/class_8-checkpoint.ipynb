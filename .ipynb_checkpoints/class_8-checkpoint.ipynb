{
 "cells": [
  {
   "cell_type": "code",
   "execution_count": 19,
   "metadata": {},
   "outputs": [],
   "source": [
    "import numpy as np\n",
    "import matplotlib.pyplot as plt\n",
    "from sklearn.datasets import make_classification\n",
    "from sklearn.utils import shuffle"
   ]
  },
  {
   "cell_type": "code",
   "execution_count": 20,
   "metadata": {},
   "outputs": [],
   "source": [
    "mean_1 = np.array([0.5,0.5])\n",
    "mean_2 = np.array([3,4])\n",
    "\n",
    "cov_1 = np.array([[1,0.5],[0.5,0.75]])\n",
    "cov_2 = np.array([[1.5,0.1],[0.1,1]])\n",
    "\n",
    "distri_1 = np.random.multivariate_normal(mean_1,cov_1,500)\n",
    "distri_2 = np.random.multivariate_normal(mean_2,cov_2,500)"
   ]
  },
  {
   "cell_type": "code",
   "execution_count": 21,
   "metadata": {},
   "outputs": [
    {
     "name": "stdout",
     "output_type": "stream",
     "text": [
      "(500, 2) (500, 2)\n"
     ]
    }
   ],
   "source": [
    "print(distri_1.shape, distri_2.shape)"
   ]
  },
  {
   "cell_type": "code",
   "execution_count": 22,
   "metadata": {},
   "outputs": [
    {
     "data": {
      "image/png": "[encoded data removed]",
      "text/plain": [
       "<Figure size 432x288 with 1 Axes>"
      ]
     },
     "metadata": {
      "needs_background": "light"
     },
     "output_type": "display_data"
    }
   ],
   "source": [
    "plt.figure()\n",
    "plt.xlim(-3,8)\n",
    "plt.ylim(-3,8)\n",
    "\n",
    "plt.scatter(distri_1[:,0], distri_1[:,1],color='blue')\n",
    "plt.scatter(distri_2[:,0], distri_2[:,1],color='red')\n",
    "plt.show()\n",
    "\n"
   ]
  },
  {
   "cell_type": "code",
   "execution_count": 23,
   "metadata": {},
   "outputs": [
    {
     "name": "stdout",
     "output_type": "stream",
     "text": [
      "(1000, 3) (1000, 1)\n"
     ]
    }
   ],
   "source": [
    "data = np.ones((1000,3)) # r = distri_1.shape[0] + distri_2.shape[0] && c = distri_1.shape[1] + 1\n",
    "labels = np.zeros((1000,1))\n",
    "\n",
    "data[:500,1:] = distri_1\n",
    "data[500:,1:] = distri_2\n",
    "labels[500:,:] = 1.0\n",
    "               \n",
    "print (data.shape, labels.shape)"
   ]
  },
  {
   "cell_type": "code",
   "execution_count": 24,
   "metadata": {},
   "outputs": [],
   "source": [
    "X,Y = shuffle(data, labels, random_state=0)"
   ]
  },
  {
   "cell_type": "code",
   "execution_count": 25,
   "metadata": {},
   "outputs": [
    {
     "name": "stdout",
     "output_type": "stream",
     "text": [
      "[[1.         1.85786197 3.1586446 ]\n",
      " [1.         1.76772864 2.85741559]\n",
      " [1.         1.94981473 0.20550225]\n",
      " [1.         5.67665835 5.38151426]\n",
      " [1.         1.29906318 3.70018825]] [[1.]\n",
      " [1.]\n",
      " [0.]\n",
      " [1.]\n",
      " [1.]]\n"
     ]
    }
   ],
   "source": [
    "print(X[:5],Y[:5])"
   ]
  },
  {
   "cell_type": "code",
   "execution_count": 26,
   "metadata": {},
   "outputs": [
    {
     "name": "stdout",
     "output_type": "stream",
     "text": [
      "(800, 3) (800, 1)\n",
      "(200, 3) (200, 1)\n"
     ]
    }
   ],
   "source": [
    "split = int(0.80*X.shape[0])\n",
    "\n",
    "X_train = X[:split,:]\n",
    "X_test = X[split:,:]\n",
    "\n",
    "Y_train = Y[:split,:]\n",
    "Y_test = Y[split:,:]\n",
    "\n",
    "print(X_train.shape,Y_train.shape)\n",
    "print(X_test.shape,Y_test.shape)"
   ]
  },
  {
   "cell_type": "markdown",
   "metadata": {},
   "source": [
    "## LOGISTIC REGRESSION"
   ]
  },
  {
   "cell_type": "code",
   "execution_count": 27,
   "metadata": {},
   "outputs": [],
   "source": [
    "def hypothesis(x,theta):\n",
    "    h = (x*theta).sum()\n",
    "    return sigmod(h)\n",
    "\n",
    "def sigmod(x):\n",
    "    return 1.0 / (1.0 + np.exp(-1.0*x))\n",
    "\n",
    "def get_error(y_true, x, theta):\n",
    "    err = 0.0\n",
    "    \n",
    "    # m = no. of training samples\n",
    "    m = x.shape[0]\n",
    "    \n",
    "    for ix in range(m):\n",
    "        if y_true[ix] == 1:\n",
    "            err += -1.0*np.log2(hypothesis(x[ix],theta))\n",
    "        else:\n",
    "            err += -1.0*np.log2(1-hypothesis(x[ix],theta))\n",
    "    \n",
    "    err /= m\n",
    "    return err\n",
    "\n",
    "def get_grads(y_true, x, theta):\n",
    "    grads = np.zeros(theta.shape)\n",
    "    \n",
    "    m = x.shape[0]\n",
    "    \n",
    "    for ix in range(m):\n",
    "        grads += (y_true[ix] - hypothesis(x[ix],theta))*x[ix]*-1\n",
    "        \n",
    "    grads = grads/m\n",
    "    \n",
    "    return grads\n",
    "\n",
    "def gradient_descent(x, y_true, theta, lr = 0.1):\n",
    "    \n",
    "    err = get_error(y_true,x,theta)\n",
    "    grads = get_grads(y_true,x,theta)\n",
    "    \n",
    "    theta = theta - lr*grads\n",
    "    \n",
    "    return err, theta\n",
    "\n",
    "def predict(x,theta):\n",
    "    prob = hypothesis(x,theta)\n",
    "    \n",
    "    if prob < 0.5:\n",
    "        return 0\n",
    "    else:\n",
    "        return 1\n",
    "\n",
    "def get_accuracy(x_test,y_test, theta):\n",
    "    y_pred = []\n",
    "    for ix in range(x_test.shape[0]):\n",
    "        y_pred.append(predict(x_test[ix],theta))\n",
    "    y_pred = np.array(y_pred).reshape(-1,1)\n",
    "    \n",
    "    return float((y_pred==y_test).sum())/y_test.shape[0]"
   ]
  },
  {
   "cell_type": "code",
   "execution_count": 28,
   "metadata": {},
   "outputs": [
    {
     "name": "stdout",
     "output_type": "stream",
     "text": [
      "[0.         0.6347062  0.63050993]\n"
     ]
    }
   ],
   "source": [
    "loss = []\n",
    "acc = []\n",
    "\n",
    "theta = np.random.random(X_train.shape[1])\n",
    "theta[0] = 0.0\n",
    "print(theta)"
   ]
  },
  {
   "cell_type": "code",
   "execution_count": 29,
   "metadata": {},
   "outputs": [],
   "source": [
    "for ix in range(200):\n",
    "    l,theta = gradient_descent(X_train,Y_train,theta,lr=0.5)\n",
    "    acc.append(get_accuracy(X_test,Y_test,theta))\n",
    "    loss.append(l)"
   ]
  },
  {
   "cell_type": "code",
   "execution_count": 30,
   "metadata": {},
   "outputs": [
    {
     "data": {
      "text/plain": [
       "[0.1598183643571086,\n",
       " 0.15960473457659374,\n",
       " 0.1593931309860137,\n",
       " 0.15918352494008217,\n",
       " 0.15897588833650134,\n",
       " 0.15877019360306388,\n",
       " 0.15856641368511762,\n",
       " 0.15836452203338974,\n",
       " 0.15816449259215226,\n",
       " 0.15796629978772178]"
      ]
     },
     "execution_count": 30,
     "metadata": {},
     "output_type": "execute_result"
    }
   ],
   "source": [
    "loss[-10:]"
   ]
  },
  {
   "cell_type": "code",
   "execution_count": 31,
   "metadata": {},
   "outputs": [
    {
     "data": {
      "text/plain": [
       "[<matplotlib.lines.Line2D at 0x7fbcb8363898>]"
      ]
     },
     "execution_count": 31,
     "metadata": {},
     "output_type": "execute_result"
    },
    {
     "data": {
      "image/png": "[encoded data removed]",
      "text/plain": [
       "<Figure size 432x288 with 1 Axes>"
      ]
     },
     "metadata": {
      "needs_background": "light"
     },
     "output_type": "display_data"
    },
    {
     "data": {
      "image/png": "[encoded data removed]",
      "text/plain": [
       "<Figure size 432x288 with 1 Axes>"
      ]
     },
     "metadata": {
      "needs_background": "light"
     },
     "output_type": "display_data"
    }
   ],
   "source": [
    "plt.figure(0)\n",
    "plt.plot(loss)\n",
    "\n",
    "plt.figure(1)\n",
    "plt.plot(acc)"
   ]
  },
  {
   "cell_type": "code",
   "execution_count": null,
   "metadata": {},
   "outputs": [],
   "source": []
  }
 ],
 "metadata": {
  "kernelspec": {
   "display_name": "Python 3",
   "language": "python",
   "name": "python3"
  },
  "language_info": {
   "codemirror_mode": {
    "name": "ipython",
    "version": 3
   },
   "file_extension": ".py",
   "mimetype": "text/x-python",
   "name": "python",
   "nbconvert_exporter": "python",
   "pygments_lexer": "ipython3",
   "version": "3.6.7"
  }
 },
 "nbformat": 4,
 "nbformat_minor": 2
}
