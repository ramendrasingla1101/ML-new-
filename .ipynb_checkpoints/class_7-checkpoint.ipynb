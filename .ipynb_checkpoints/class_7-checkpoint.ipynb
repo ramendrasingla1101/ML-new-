{
 "cells": [
  {
   "cell_type": "markdown",
   "metadata": {},
   "source": [
    "# LOCALLY WEIGHTED"
   ]
  },
  {
   "cell_type": "code",
   "execution_count": 2,
   "metadata": {},
   "outputs": [],
   "source": [
    "import numpy as np\n",
    "import pandas as pd\n",
    "import matplotlib.pyplot as plt"
   ]
  },
  {
   "cell_type": "code",
   "execution_count": 3,
   "metadata": {},
   "outputs": [],
   "source": [
    "# Data Set Preparations:\n",
    "\n",
    "def getData(m):\n",
    "    X = np.random.rand(m,1)\n",
    "    noise = np.random.rand(m,1)\n",
    "    Y = 3*X**5 - X**4 - 12*X**2 + 7*X + 2 + .3*noise\n",
    "    print(noise.shape)\n",
    "    Y = Y.reshape((m,))\n",
    "    return X,Y"
   ]
  },
  {
   "cell_type": "code",
   "execution_count": 4,
   "metadata": {},
   "outputs": [
    {
     "name": "stdout",
     "output_type": "stream",
     "text": [
      "(100, 1)\n"
     ]
    }
   ],
   "source": [
    "X,Y = getData(100)"
   ]
  },
  {
   "cell_type": "code",
   "execution_count": 5,
   "metadata": {},
   "outputs": [
    {
     "name": "stdout",
     "output_type": "stream",
     "text": [
      "(100, 1)\n",
      "(100,)\n"
     ]
    }
   ],
   "source": [
    "print(X.shape)\n",
    "print(Y.shape)"
   ]
  },
  {
   "cell_type": "code",
   "execution_count": 6,
   "metadata": {},
   "outputs": [
    {
     "data": {
      "image/png": "[encoded data removed]",
      "text/plain": [
       "<Figure size 576x396 with 1 Axes>"
      ]
     },
     "metadata": {},
     "output_type": "display_data"
    }
   ],
   "source": [
    "plt.style.use(\"seaborn\")\n",
    "plt.scatter(X,Y)\n",
    "plt.show()"
   ]
  },
  {
   "cell_type": "code",
   "execution_count": 7,
   "metadata": {},
   "outputs": [],
   "source": [
    "def getW(X,q,tau):\n",
    "    \n",
    "    m = X.shape[0]\n",
    "    W = np.eye(m)\n",
    "    \n",
    "    for i in range(m):\n",
    "        W[i,i] = np.exp(-np.dot((X[i]-q),(X[i]-q).T)/(2*tau*tau))\n",
    "        \n",
    "    return W\n",
    "\n",
    "def getTheta(X,Y,q,tau):\n",
    "    \n",
    "    m = X.shape[0]\n",
    "    ones = np.ones((m,1))\n",
    "    X = np.hstack((ones,X))\n",
    "    W = getW(X,q,tau)\n",
    "    Y = Y.reshape((-1,1))\n",
    "    q = np.array([1,q])\n",
    "    \n",
    "    theta = np.dot(np.linalg.pinv(np.dot(np.dot(X.T,W),X)),np.dot(np.dot(X.T,W),Y))\n",
    "    return theta,W\n",
    "                   "
   ]
  },
  {
   "cell_type": "code",
   "execution_count": 8,
   "metadata": {},
   "outputs": [],
   "source": [
    "theta, W = getTheta(X,Y,0.6,1)"
   ]
  },
  {
   "cell_type": "code",
   "execution_count": 9,
   "metadata": {},
   "outputs": [
    {
     "name": "stdout",
     "output_type": "stream",
     "text": [
      "(2, 1)\n",
      "[[0.86922526 0.         0.         ... 0.         0.         0.        ]\n",
      " [0.         0.91318632 0.         ... 0.         0.         0.        ]\n",
      " [0.         0.         0.91836399 ... 0.         0.         0.        ]\n",
      " ...\n",
      " [0.         0.         0.         ... 0.92280775 0.         0.        ]\n",
      " [0.         0.         0.         ... 0.         0.92226681 0.        ]\n",
      " [0.         0.         0.         ... 0.         0.         0.92174112]]\n"
     ]
    }
   ],
   "source": [
    "print(theta.shape)\n",
    "print(W)"
   ]
  },
  {
   "cell_type": "code",
   "execution_count": 10,
   "metadata": {},
   "outputs": [
    {
     "name": "stdout",
     "output_type": "stream",
     "text": [
      "[0.         0.11111111 0.22222222 0.33333333 0.44444444 0.55555556\n",
      " 0.66666667 0.77777778 0.88888889 1.        ]\n",
      "(10,)\n",
      "[ 2.3581852   2.75937577  3.04070992  3.03844188  2.7847409   2.30350642\n",
      "  1.62695546  0.80665931 -0.06918441 -0.95517515]\n"
     ]
    }
   ],
   "source": [
    "X_Test = np.linspace(0,1,10)\n",
    "print(X_Test)\n",
    "Y_Test = []\n",
    "\n",
    "for xt in X_Test:\n",
    "    theta,W = getTheta(X,Y,xt,0.1)\n",
    "    pred = theta[0][0] + theta[1][0]*xt\n",
    "    Y_Test.append(pred)\n",
    "    \n",
    "Y_Test = np.array(Y_Test)\n",
    "print(Y_Test.shape)\n",
    "print(Y_Test)"
   ]
  },
  {
   "cell_type": "code",
   "execution_count": 11,
   "metadata": {},
   "outputs": [
    {
     "data": {
      "image/png": "[encoded data removed]",
      "text/plain": [
       "<Figure size 576x396 with 1 Axes>"
      ]
     },
     "metadata": {},
     "output_type": "display_data"
    }
   ],
   "source": [
    "plt.scatter(X,Y)\n",
    "plt.scatter(X_Test, Y_Test,c='orange')\n",
    "plt.show()"
   ]
  }
 ],
 "metadata": {
  "kernelspec": {
   "display_name": "Python 3",
   "language": "python",
   "name": "python3"
  },
  "language_info": {
   "codemirror_mode": {
    "name": "ipython",
    "version": 3
   },
   "file_extension": ".py",
   "mimetype": "text/x-python",
   "name": "python",
   "nbconvert_exporter": "python",
   "pygments_lexer": "ipython3",
   "version": "3.6.7"
  }
 },
 "nbformat": 4,
 "nbformat_minor": 2
}
